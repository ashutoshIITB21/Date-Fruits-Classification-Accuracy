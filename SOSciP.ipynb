{
  "nbformat": 4,
  "nbformat_minor": 0,
  "metadata": {
    "colab": {
      "provenance": [],
      "collapsed_sections": []
    },
    "kernelspec": {
      "name": "python3",
      "display_name": "Python 3"
    },
    "language_info": {
      "name": "python"
    }
  },
  "cells": [
    {
      "cell_type": "markdown",
      "source": [
        "# Date_Fruit_Classication_accuracy"
      ],
      "metadata": {
        "id": "0ZSbwpgm9OkK"
      }
    },
    {
      "cell_type": "code",
      "execution_count": null,
      "metadata": {
        "id": "XK6DU9dOvj5U"
      },
      "outputs": [],
      "source": [
        "# Train our Model ------using Different Method----\n",
        "# By taking-----Date fruit Dataset-----\n",
        "\n",
        "import numpy as np\n",
        "import matplotlib.pyplot as plt\n",
        "import pandas as pd\n",
        "from sklearn.metrics import accuracy_score\n",
        "import seaborn as sns"
      ]
    },
    {
      "cell_type": "code",
      "source": [
        "# Import Dataset------\n",
        "!pip install openpyxl"
      ],
      "metadata": {
        "colab": {
          "base_uri": "https://localhost:8080/"
        },
        "id": "erRIZuBMwPtb",
        "outputId": "13bfa30f-307a-4aad-8468-26e009cb49c5"
      },
      "execution_count": null,
      "outputs": [
        {
          "output_type": "stream",
          "name": "stdout",
          "text": [
            "Looking in indexes: https://pypi.org/simple, https://us-python.pkg.dev/colab-wheels/public/simple/\n",
            "Requirement already satisfied: openpyxl in /usr/local/lib/python3.7/dist-packages (3.0.10)\n",
            "Requirement already satisfied: et-xmlfile in /usr/local/lib/python3.7/dist-packages (from openpyxl) (1.1.0)\n"
          ]
        }
      ]
    },
    {
      "cell_type": "code",
      "source": [
        "dataset=pd.read_excel(\"/content/drive/MyDrive/DATA_File_Project/Date_Fruit_Datasets.xlsx\")\n",
        "X = dataset.iloc[:,1:-1].values \n",
        "y = dataset.iloc[:,-1].values #gives me the row vector of the last column's values."
      ],
      "metadata": {
        "id": "inb8tD_CxPZc"
      },
      "execution_count": null,
      "outputs": []
    },
    {
      "cell_type": "code",
      "source": [
        "print(dataset.shape)\n",
        "print(X.shape)\n",
        "print(y.shape)"
      ],
      "metadata": {
        "colab": {
          "base_uri": "https://localhost:8080/"
        },
        "id": "A0WslajqnDIg",
        "outputId": "523fa6fd-9140-45aa-d92f-e30c5d1fe50f"
      },
      "execution_count": null,
      "outputs": [
        {
          "output_type": "stream",
          "name": "stdout",
          "text": [
            "(898, 35)\n",
            "(898, 33)\n",
            "(898,)\n"
          ]
        }
      ]
    },
    {
      "cell_type": "markdown",
      "source": [
        "# Dataset informations and descriptions:"
      ],
      "metadata": {
        "id": "LE0hRSJ2x-8U"
      }
    },
    {
      "cell_type": "code",
      "source": [
        "dataset.info()"
      ],
      "metadata": {
        "colab": {
          "base_uri": "https://localhost:8080/"
        },
        "id": "LScQe310yDX0",
        "outputId": "827d76a0-0462-46fe-be76-3a7248f6a3bb"
      },
      "execution_count": null,
      "outputs": [
        {
          "output_type": "stream",
          "name": "stdout",
          "text": [
            "<class 'pandas.core.frame.DataFrame'>\n",
            "RangeIndex: 898 entries, 0 to 897\n",
            "Data columns (total 35 columns):\n",
            " #   Column         Non-Null Count  Dtype  \n",
            "---  ------         --------------  -----  \n",
            " 0   AREA           898 non-null    int64  \n",
            " 1   PERIMETER      898 non-null    float64\n",
            " 2   MAJOR_AXIS     898 non-null    float64\n",
            " 3   MINOR_AXIS     898 non-null    float64\n",
            " 4   ECCENTRICITY   898 non-null    float64\n",
            " 5   EQDIASQ        898 non-null    float64\n",
            " 6   SOLIDITY       898 non-null    float64\n",
            " 7   CONVEX_AREA    898 non-null    int64  \n",
            " 8   EXTENT         898 non-null    float64\n",
            " 9   ASPECT_RATIO   898 non-null    float64\n",
            " 10  ROUNDNESS      898 non-null    float64\n",
            " 11  COMPACTNESS    898 non-null    float64\n",
            " 12  SHAPEFACTOR_1  898 non-null    float64\n",
            " 13  SHAPEFACTOR_2  898 non-null    float64\n",
            " 14  SHAPEFACTOR_3  898 non-null    float64\n",
            " 15  SHAPEFACTOR_4  898 non-null    float64\n",
            " 16  MeanRR         898 non-null    float64\n",
            " 17  MeanRG         898 non-null    float64\n",
            " 18  MeanRB         898 non-null    float64\n",
            " 19  StdDevRR       898 non-null    float64\n",
            " 20  StdDevRG       898 non-null    float64\n",
            " 21  StdDevRB       898 non-null    float64\n",
            " 22  SkewRR         898 non-null    float64\n",
            " 23  SkewRG         898 non-null    float64\n",
            " 24  SkewRB         898 non-null    float64\n",
            " 25  KurtosisRR     898 non-null    float64\n",
            " 26  KurtosisRG     898 non-null    float64\n",
            " 27  KurtosisRB     898 non-null    float64\n",
            " 28  EntropyRR      898 non-null    int64  \n",
            " 29  EntropyRG      898 non-null    int64  \n",
            " 30  EntropyRB      898 non-null    int64  \n",
            " 31  ALLdaub4RR     898 non-null    float64\n",
            " 32  ALLdaub4RG     898 non-null    float64\n",
            " 33  ALLdaub4RB     898 non-null    float64\n",
            " 34  Class          898 non-null    object \n",
            "dtypes: float64(29), int64(5), object(1)\n",
            "memory usage: 245.7+ KB\n"
          ]
        }
      ]
    },
    {
      "cell_type": "code",
      "source": [
        "# Visualizing Dataset-------bar plot\n",
        "from sklearn.feature_selection import mutual_info_classif\n",
        "%matplotlib inline\n",
        "importances = mutual_info_classif(X,y)\n",
        "feat_importances = pd.Series(importances, dataset.columns[0:len(dataset.columns)-2])\n",
        "feat_importances.plot(kind='barh', color='blue') # bar plot-----\n",
        "plt.show()"
      ],
      "metadata": {
        "colab": {
          "base_uri": "https://localhost:8080/",
          "height": 266
        },
        "id": "f9io_ifiyftN",
        "outputId": "94ed2a95-7985-460f-b88d-6d0730c3bbf0"
      },
      "execution_count": null,
      "outputs": [
        {
          "output_type": "display_data",
          "data": {
            "text/plain": [
              "<Figure size 432x288 with 1 Axes>"
            ],
            "image/png": "[encoded data removed]"
          },
          "metadata": {
            "needs_background": "light"
          }
        }
      ]
    },
    {
      "cell_type": "code",
      "source": [
        "dataset.head(10)"
      ],
      "metadata": {
        "colab": {
          "base_uri": "https://localhost:8080/",
          "height": 456
        },
        "id": "nAazzLdgz13d",
        "outputId": "9a7af7d2-3602-4a2e-a8fa-9231c8a9f43e"
      },
      "execution_count": null,
      "outputs": [
        {
          "output_type": "execute_result",
          "data": {
            "text/plain": [
              "     AREA  PERIMETER  MAJOR_AXIS  MINOR_AXIS  ECCENTRICITY   EQDIASQ  \\\n",
              "0  422163  2378.9080    837.8484    645.6693        0.6373  733.1539   \n",
              "1  338136  2085.1440    723.8198    595.2073        0.5690  656.1464   \n",
              "2  526843  2647.3940    940.7379    715.3638        0.6494  819.0222   \n",
              "3  416063  2351.2100    827.9804    645.2988        0.6266  727.8378   \n",
              "4  347562  2160.3540    763.9877    582.8359        0.6465  665.2291   \n",
              "5  408953  2326.6931    840.1821    622.0076        0.6722  721.5921   \n",
              "6  451414  2457.2080    889.3253    652.4316        0.6796  758.1281   \n",
              "7  382636  2275.7791    808.0833    609.2819        0.6569  697.9880   \n",
              "8  546063  2714.9480    916.3737    766.4536        0.5481  833.8279   \n",
              "9  420044  2391.1230    836.9280    645.1822        0.6370  731.3116   \n",
              "\n",
              "   SOLIDITY  CONVEX_AREA  EXTENT  ASPECT_RATIO  ...  KurtosisRR  KurtosisRG  \\\n",
              "0    0.9947       424428  0.7831        1.2976  ...      3.2370      2.9574   \n",
              "1    0.9974       339014  0.7795        1.2161  ...      2.6228      2.6350   \n",
              "2    0.9962       528876  0.7657        1.3150  ...      3.7516      3.8611   \n",
              "3    0.9948       418255  0.7759        1.2831  ...      5.0401      8.6136   \n",
              "4    0.9908       350797  0.7569        1.3108  ...      2.7016      2.9761   \n",
              "5    0.9974       410036  0.7805        1.3508  ...      3.6309      6.0285   \n",
              "6    0.9970       452755  0.7877        1.3631  ...      3.0703      3.4163   \n",
              "7    0.9931       385277  0.7032        1.3263  ...      3.6756      7.0258   \n",
              "8    0.9882       552598  0.7710        1.1956  ...      3.4640      3.7416   \n",
              "9    0.9918       423531  0.7853        1.2972  ...      3.3729      4.2898   \n",
              "\n",
              "   KurtosisRB    EntropyRR    EntropyRG    EntropyRB  ALLdaub4RR  ALLdaub4RG  \\\n",
              "0      4.2287 -59191263232 -50714214400 -39922372608     58.7255     54.9554   \n",
              "1      3.1704 -34233065472 -37462601728 -31477794816     50.0259     52.8168   \n",
              "2      4.7192 -93948354560 -74738221056 -60311207936     65.4772     59.2860   \n",
              "3      8.2618 -32074307584 -32060925952 -29575010304     43.3900     44.1259   \n",
              "4      4.4146 -39980974080 -35980042240 -25593278464     52.7743     50.9080   \n",
              "5      6.2159 -41140371456 -33146710016 -27907301376     49.7001     45.3190   \n",
              "6      4.9168 -63711666176 -64060743680 -52603465728     57.8060     58.5449   \n",
              "7      5.3254 -29873577984 -33570080768 -33054025728     45.1768     48.2407   \n",
              "8      4.8120 -95262416896 -79321833472 -69569445888     64.6188     59.9127   \n",
              "9      5.4637 -74341122048 -58172182528 -42640556032     64.9094     58.2771   \n",
              "\n",
              "   ALLdaub4RB  Class  \n",
              "0     47.8400  BERHI  \n",
              "1     47.8315  BERHI  \n",
              "2     51.9378  BERHI  \n",
              "3     41.1882  BERHI  \n",
              "4     42.6666  BERHI  \n",
              "5     39.7371  BERHI  \n",
              "6     52.4199  BERHI  \n",
              "7     47.2167  BERHI  \n",
              "8     55.6509  BERHI  \n",
              "9     48.4820  BERHI  \n",
              "\n",
              "[10 rows x 35 columns]"
            ],
            "text/html": [
              "\n",
              "  <div id=\"df-c152d087-601d-4034-b474-283af530a08a\">\n",
              "    <div class=\"colab-df-container\">\n",
              "      <div>\n",
              "<style scoped>\n",
              "    .dataframe tbody tr th:only-of-type {\n",
              "        vertical-align: middle;\n",
              "    }\n",
              "\n",
              "    .dataframe tbody tr th {\n",
              "        vertical-align: top;\n",
              "    }\n",
              "\n",
              "    .dataframe thead th {\n",
              "        text-align: right;\n",
              "    }\n",
              "</style>\n",
              "<table border=\"1\" class=\"dataframe\">\n",
              "  <thead>\n",
              "    <tr style=\"text-align: right;\">\n",
              "      <th></th>\n",
              "      <th>AREA</th>\n",
              "      <th>PERIMETER</th>\n",
              "      <th>MAJOR_AXIS</th>\n",
              "      <th>MINOR_AXIS</th>\n",
              "      <th>ECCENTRICITY</th>\n",
              "      <th>EQDIASQ</th>\n",
              "      <th>SOLIDITY</th>\n",
              "      <th>CONVEX_AREA</th>\n",
              "      <th>EXTENT</th>\n",
              "      <th>ASPECT_RATIO</th>\n",
              "      <th>...</th>\n",
              "      <th>KurtosisRR</th>\n",
              "      <th>KurtosisRG</th>\n",
              "      <th>KurtosisRB</th>\n",
              "      <th>EntropyRR</th>\n",
              "      <th>EntropyRG</th>\n",
              "      <th>EntropyRB</th>\n",
              "      <th>ALLdaub4RR</th>\n",
              "      <th>ALLdaub4RG</th>\n",
              "      <th>ALLdaub4RB</th>\n",
              "      <th>Class</th>\n",
              "    </tr>\n",
              "  </thead>\n",
              "  <tbody>\n",
              "    <tr>\n",
              "      <th>0</th>\n",
              "      <td>422163</td>\n",
              "      <td>2378.9080</td>\n",
              "      <td>837.8484</td>\n",
              "      <td>645.6693</td>\n",
              "      <td>0.6373</td>\n",
              "      <td>733.1539</td>\n",
              "      <td>0.9947</td>\n",
              "      <td>424428</td>\n",
              "      <td>0.7831</td>\n",
              "      <td>1.2976</td>\n",
              "      <td>...</td>\n",
              "      <td>3.2370</td>\n",
              "      <td>2.9574</td>\n",
              "      <td>4.2287</td>\n",
              "      <td>-59191263232</td>\n",
              "      <td>-50714214400</td>\n",
              "      <td>-39922372608</td>\n",
              "      <td>58.7255</td>\n",
              "      <td>54.9554</td>\n",
              "      <td>47.8400</td>\n",
              "      <td>BERHI</td>\n",
              "    </tr>\n",
              "    <tr>\n",
              "      <th>1</th>\n",
              "      <td>338136</td>\n",
              "      <td>2085.1440</td>\n",
              "      <td>723.8198</td>\n",
              "      <td>595.2073</td>\n",
              "      <td>0.5690</td>\n",
              "      <td>656.1464</td>\n",
              "      <td>0.9974</td>\n",
              "      <td>339014</td>\n",
              "      <td>0.7795</td>\n",
              "      <td>1.2161</td>\n",
              "      <td>...</td>\n",
              "      <td>2.6228</td>\n",
              "      <td>2.6350</td>\n",
              "      <td>3.1704</td>\n",
              "      <td>-34233065472</td>\n",
              "      <td>-37462601728</td>\n",
              "      <td>-31477794816</td>\n",
              "      <td>50.0259</td>\n",
              "      <td>52.8168</td>\n",
              "      <td>47.8315</td>\n",
              "      <td>BERHI</td>\n",
              "    </tr>\n",
              "    <tr>\n",
              "      <th>2</th>\n",
              "      <td>526843</td>\n",
              "      <td>2647.3940</td>\n",
              "      <td>940.7379</td>\n",
              "      <td>715.3638</td>\n",
              "      <td>0.6494</td>\n",
              "      <td>819.0222</td>\n",
              "      <td>0.9962</td>\n",
              "      <td>528876</td>\n",
              "      <td>0.7657</td>\n",
              "      <td>1.3150</td>\n",
              "      <td>...</td>\n",
              "      <td>3.7516</td>\n",
              "      <td>3.8611</td>\n",
              "      <td>4.7192</td>\n",
              "      <td>-93948354560</td>\n",
              "      <td>-74738221056</td>\n",
              "      <td>-60311207936</td>\n",
              "      <td>65.4772</td>\n",
              "      <td>59.2860</td>\n",
              "      <td>51.9378</td>\n",
              "      <td>BERHI</td>\n",
              "    </tr>\n",
              "    <tr>\n",
              "      <th>3</th>\n",
              "      <td>416063</td>\n",
              "      <td>2351.2100</td>\n",
              "      <td>827.9804</td>\n",
              "      <td>645.2988</td>\n",
              "      <td>0.6266</td>\n",
              "      <td>727.8378</td>\n",
              "      <td>0.9948</td>\n",
              "      <td>418255</td>\n",
              "      <td>0.7759</td>\n",
              "      <td>1.2831</td>\n",
              "      <td>...</td>\n",
              "      <td>5.0401</td>\n",
              "      <td>8.6136</td>\n",
              "      <td>8.2618</td>\n",
              "      <td>-32074307584</td>\n",
              "      <td>-32060925952</td>\n",
              "      <td>-29575010304</td>\n",
              "      <td>43.3900</td>\n",
              "      <td>44.1259</td>\n",
              "      <td>41.1882</td>\n",
              "      <td>BERHI</td>\n",
              "    </tr>\n",
              "    <tr>\n",
              "      <th>4</th>\n",
              "      <td>347562</td>\n",
              "      <td>2160.3540</td>\n",
              "      <td>763.9877</td>\n",
              "      <td>582.8359</td>\n",
              "      <td>0.6465</td>\n",
              "      <td>665.2291</td>\n",
              "      <td>0.9908</td>\n",
              "      <td>350797</td>\n",
              "      <td>0.7569</td>\n",
              "      <td>1.3108</td>\n",
              "      <td>...</td>\n",
              "      <td>2.7016</td>\n",
              "      <td>2.9761</td>\n",
              "      <td>4.4146</td>\n",
              "      <td>-39980974080</td>\n",
              "      <td>-35980042240</td>\n",
              "      <td>-25593278464</td>\n",
              "      <td>52.7743</td>\n",
              "      <td>50.9080</td>\n",
              "      <td>42.6666</td>\n",
              "      <td>BERHI</td>\n",
              "    </tr>\n",
              "    <tr>\n",
              "      <th>5</th>\n",
              "      <td>408953</td>\n",
              "      <td>2326.6931</td>\n",
              "      <td>840.1821</td>\n",
              "      <td>622.0076</td>\n",
              "      <td>0.6722</td>\n",
              "      <td>721.5921</td>\n",
              "      <td>0.9974</td>\n",
              "      <td>410036</td>\n",
              "      <td>0.7805</td>\n",
              "      <td>1.3508</td>\n",
              "      <td>...</td>\n",
              "      <td>3.6309</td>\n",
              "      <td>6.0285</td>\n",
              "      <td>6.2159</td>\n",
              "      <td>-41140371456</td>\n",
              "      <td>-33146710016</td>\n",
              "      <td>-27907301376</td>\n",
              "      <td>49.7001</td>\n",
              "      <td>45.3190</td>\n",
              "      <td>39.7371</td>\n",
              "      <td>BERHI</td>\n",
              "    </tr>\n",
              "    <tr>\n",
              "      <th>6</th>\n",
              "      <td>451414</td>\n",
              "      <td>2457.2080</td>\n",
              "      <td>889.3253</td>\n",
              "      <td>652.4316</td>\n",
              "      <td>0.6796</td>\n",
              "      <td>758.1281</td>\n",
              "      <td>0.9970</td>\n",
              "      <td>452755</td>\n",
              "      <td>0.7877</td>\n",
              "      <td>1.3631</td>\n",
              "      <td>...</td>\n",
              "      <td>3.0703</td>\n",
              "      <td>3.4163</td>\n",
              "      <td>4.9168</td>\n",
              "      <td>-63711666176</td>\n",
              "      <td>-64060743680</td>\n",
              "      <td>-52603465728</td>\n",
              "      <td>57.8060</td>\n",
              "      <td>58.5449</td>\n",
              "      <td>52.4199</td>\n",
              "      <td>BERHI</td>\n",
              "    </tr>\n",
              "    <tr>\n",
              "      <th>7</th>\n",
              "      <td>382636</td>\n",
              "      <td>2275.7791</td>\n",
              "      <td>808.0833</td>\n",
              "      <td>609.2819</td>\n",
              "      <td>0.6569</td>\n",
              "      <td>697.9880</td>\n",
              "      <td>0.9931</td>\n",
              "      <td>385277</td>\n",
              "      <td>0.7032</td>\n",
              "      <td>1.3263</td>\n",
              "      <td>...</td>\n",
              "      <td>3.6756</td>\n",
              "      <td>7.0258</td>\n",
              "      <td>5.3254</td>\n",
              "      <td>-29873577984</td>\n",
              "      <td>-33570080768</td>\n",
              "      <td>-33054025728</td>\n",
              "      <td>45.1768</td>\n",
              "      <td>48.2407</td>\n",
              "      <td>47.2167</td>\n",
              "      <td>BERHI</td>\n",
              "    </tr>\n",
              "    <tr>\n",
              "      <th>8</th>\n",
              "      <td>546063</td>\n",
              "      <td>2714.9480</td>\n",
              "      <td>916.3737</td>\n",
              "      <td>766.4536</td>\n",
              "      <td>0.5481</td>\n",
              "      <td>833.8279</td>\n",
              "      <td>0.9882</td>\n",
              "      <td>552598</td>\n",
              "      <td>0.7710</td>\n",
              "      <td>1.1956</td>\n",
              "      <td>...</td>\n",
              "      <td>3.4640</td>\n",
              "      <td>3.7416</td>\n",
              "      <td>4.8120</td>\n",
              "      <td>-95262416896</td>\n",
              "      <td>-79321833472</td>\n",
              "      <td>-69569445888</td>\n",
              "      <td>64.6188</td>\n",
              "      <td>59.9127</td>\n",
              "      <td>55.6509</td>\n",
              "      <td>BERHI</td>\n",
              "    </tr>\n",
              "    <tr>\n",
              "      <th>9</th>\n",
              "      <td>420044</td>\n",
              "      <td>2391.1230</td>\n",
              "      <td>836.9280</td>\n",
              "      <td>645.1822</td>\n",
              "      <td>0.6370</td>\n",
              "      <td>731.3116</td>\n",
              "      <td>0.9918</td>\n",
              "      <td>423531</td>\n",
              "      <td>0.7853</td>\n",
              "      <td>1.2972</td>\n",
              "      <td>...</td>\n",
              "      <td>3.3729</td>\n",
              "      <td>4.2898</td>\n",
              "      <td>5.4637</td>\n",
              "      <td>-74341122048</td>\n",
              "      <td>-58172182528</td>\n",
              "      <td>-42640556032</td>\n",
              "      <td>64.9094</td>\n",
              "      <td>58.2771</td>\n",
              "      <td>48.4820</td>\n",
              "      <td>BERHI</td>\n",
              "    </tr>\n",
              "  </tbody>\n",
              "</table>\n",
              "<p>10 rows × 35 columns</p>\n",
              "</div>\n",
              "      <button class=\"colab-df-convert\" onclick=\"convertToInteractive('df-c152d087-601d-4034-b474-283af530a08a')\"\n",
              "              title=\"Convert this dataframe to an interactive table.\"\n",
              "              style=\"display:none;\">\n",
              "        \n",
              "  <svg xmlns=\"http://www.w3.org/2000/svg\" height=\"24px\"viewBox=\"0 0 24 24\"\n",
              "       width=\"24px\">\n",
              "    <path d=\"M0 0h24v24H0V0z\" fill=\"none\"/>\n",
              "    <path d=\"M18.56 5.44l.94 2.06.94-2.06 2.06-.94-2.06-.94-.94-2.06-.94 2.06-2.06.94zm-11 1L8.5 8.5l.94-2.06 2.06-.94-2.06-.94L8.5 2.5l-.94 2.06-2.06.94zm10 10l.94 2.06.94-2.06 2.06-.94-2.06-.94-.94-2.06-.94 2.06-2.06.94z\"/><path d=\"M17.41 7.96l-1.37-1.37c-.4-.4-.92-.59-1.43-.59-.52 0-1.04.2-1.43.59L10.3 9.45l-7.72 7.72c-.78.78-.78 2.05 0 2.83L4 21.41c.39.39.9.59 1.41.59.51 0 1.02-.2 1.41-.59l7.78-7.78 2.81-2.81c.8-.78.8-2.07 0-2.86zM5.41 20L4 18.59l7.72-7.72 1.47 1.35L5.41 20z\"/>\n",
              "  </svg>\n",
              "      </button>\n",
              "      \n",
              "  <style>\n",
              "    .colab-df-container {\n",
              "      display:flex;\n",
              "      flex-wrap:wrap;\n",
              "      gap: 12px;\n",
              "    }\n",
              "\n",
              "    .colab-df-convert {\n",
              "      background-color: #E8F0FE;\n",
              "      border: none;\n",
              "      border-radius: 50%;\n",
              "      cursor: pointer;\n",
              "      display: none;\n",
              "      fill: #1967D2;\n",
              "      height: 32px;\n",
              "      padding: 0 0 0 0;\n",
              "      width: 32px;\n",
              "    }\n",
              "\n",
              "    .colab-df-convert:hover {\n",
              "      background-color: #E2EBFA;\n",
              "      box-shadow: 0px 1px 2px rgba(60, 64, 67, 0.3), 0px 1px 3px 1px rgba(60, 64, 67, 0.15);\n",
              "      fill: #174EA6;\n",
              "    }\n",
              "\n",
              "    [theme=dark] .colab-df-convert {\n",
              "      background-color: #3B4455;\n",
              "      fill: #D2E3FC;\n",
              "    }\n",
              "\n",
              "    [theme=dark] .colab-df-convert:hover {\n",
              "      background-color: #434B5C;\n",
              "      box-shadow: 0px 1px 3px 1px rgba(0, 0, 0, 0.15);\n",
              "      filter: drop-shadow(0px 1px 2px rgba(0, 0, 0, 0.3));\n",
              "      fill: #FFFFFF;\n",
              "    }\n",
              "  </style>\n",
              "\n",
              "      <script>\n",
              "        const buttonEl =\n",
              "          document.querySelector('#df-c152d087-601d-4034-b474-283af530a08a button.colab-df-convert');\n",
              "        buttonEl.style.display =\n",
              "          google.colab.kernel.accessAllowed ? 'block' : 'none';\n",
              "\n",
              "        async function convertToInteractive(key) {\n",
              "          const element = document.querySelector('#df-c152d087-601d-4034-b474-283af530a08a');\n",
              "          const dataTable =\n",
              "            await google.colab.kernel.invokeFunction('convertToInteractive',\n",
              "                                                     [key], {});\n",
              "          if (!dataTable) return;\n",
              "\n",
              "          const docLinkHtml = 'Like what you see? Visit the ' +\n",
              "            '<a target=\"_blank\" href=https://colab.research.google.com/notebooks/data_table.ipynb>data table notebook</a>'\n",
              "            + ' to learn more about interactive tables.';\n",
              "          element.innerHTML = '';\n",
              "          dataTable['output_type'] = 'display_data';\n",
              "          await google.colab.output.renderOutput(dataTable, element);\n",
              "          const docLink = document.createElement('div');\n",
              "          docLink.innerHTML = docLinkHtml;\n",
              "          element.appendChild(docLink);\n",
              "        }\n",
              "      </script>\n",
              "    </div>\n",
              "  </div>\n",
              "  "
            ]
          },
          "metadata": {},
          "execution_count": 39
        }
      ]
    },
    {
      "cell_type": "code",
      "source": [
        "# Feature selection-------\n",
        "X = dataset.iloc[:,[0,1,2,3,4,5,7,9,10,11,12,13,14,16,17,18,22,23,25,26,28,29,30,31,32,33]]\n",
        "X.head"
      ],
      "metadata": {
        "colab": {
          "base_uri": "https://localhost:8080/"
        },
        "id": "XFyJj4xN1okO",
        "outputId": "cf09762a-83f7-48b7-ae08-d2d4c0340336"
      },
      "execution_count": null,
      "outputs": [
        {
          "output_type": "execute_result",
          "data": {
            "text/plain": [
              "<bound method NDFrame.head of        AREA  PERIMETER  MAJOR_AXIS  MINOR_AXIS  ECCENTRICITY   EQDIASQ  \\\n",
              "0    422163  2378.9080    837.8484    645.6693        0.6373  733.1539   \n",
              "1    338136  2085.1440    723.8198    595.2073        0.5690  656.1464   \n",
              "2    526843  2647.3940    940.7379    715.3638        0.6494  819.0222   \n",
              "3    416063  2351.2100    827.9804    645.2988        0.6266  727.8378   \n",
              "4    347562  2160.3540    763.9877    582.8359        0.6465  665.2291   \n",
              "..      ...        ...         ...         ...           ...       ...   \n",
              "893  255403  1925.3650    691.8453    477.1796        0.7241  570.2536   \n",
              "894  365924  2664.8230    855.4633    551.5447        0.7644  682.5752   \n",
              "895  254330  1926.7360    747.4943    435.6219        0.8126  569.0545   \n",
              "896  238955  1906.2679    716.6485    441.8297        0.7873  551.5859   \n",
              "897  343792  2289.2720    823.8438    534.7757        0.7607  661.6113   \n",
              "\n",
              "     CONVEX_AREA  ASPECT_RATIO  ROUNDNESS  COMPACTNESS  ...  SkewRR  SkewRG  \\\n",
              "0         424428        1.2976     0.9374       0.8750  ... -0.5661 -0.0114   \n",
              "1         339014        1.2161     0.9773       0.9065  ... -0.2328  0.1349   \n",
              "2         528876        1.3150     0.9446       0.8706  ... -0.7152 -0.1059   \n",
              "3         418255        1.2831     0.9458       0.8791  ...  0.4584  1.2917   \n",
              "4         350797        1.3108     0.9358       0.8707  ... -0.3552  0.2101   \n",
              "..           ...           ...        ...          ...  ...     ...     ...   \n",
              "893       261028        1.4499     0.8658       0.8243  ... -0.2737 -0.0339   \n",
              "894       386566        1.5510     0.6475       0.7979  ... -0.3319  0.5663   \n",
              "895       256255        1.7159     0.8609       0.7613  ...  0.1838  0.6385   \n",
              "896       248795        1.6220     0.8263       0.7697  ...  0.3400  0.8228   \n",
              "897       351472        1.5405     0.8243       0.8031  ...  0.3382  0.5209   \n",
              "\n",
              "     KurtosisRR  KurtosisRG    EntropyRR    EntropyRG    EntropyRB  \\\n",
              "0        3.2370      2.9574 -59191263232 -50714214400 -39922372608   \n",
              "1        2.6228      2.6350 -34233065472 -37462601728 -31477794816   \n",
              "2        3.7516      3.8611 -93948354560 -74738221056 -60311207936   \n",
              "3        5.0401      8.6136 -32074307584 -32060925952 -29575010304   \n",
              "4        2.7016      2.9761 -39980974080 -35980042240 -25593278464   \n",
              "..          ...         ...          ...          ...          ...   \n",
              "893      2.2423      2.3704 -25296416768 -19168882688 -18473392128   \n",
              "894      3.4109      3.5805 -31605219328 -21945366528 -19277905920   \n",
              "895      2.2759      2.5090 -22242772992 -19594921984 -17592152064   \n",
              "896      2.6769      2.6874 -26048595968 -21299822592 -19809978368   \n",
              "897      2.5138      3.0369 -31983476736 -20482514944 -21219354624   \n",
              "\n",
              "     ALLdaub4RR  ALLdaub4RG  ALLdaub4RB  \n",
              "0       58.7255     54.9554     47.8400  \n",
              "1       50.0259     52.8168     47.8315  \n",
              "2       65.4772     59.2860     51.9378  \n",
              "3       43.3900     44.1259     41.1882  \n",
              "4       52.7743     50.9080     42.6666  \n",
              "..          ...         ...         ...  \n",
              "893     49.0869     43.0422     42.4153  \n",
              "894     46.8086     39.1046     36.5502  \n",
              "895     44.1325     40.7986     40.9769  \n",
              "896     51.2267     45.7162     45.6260  \n",
              "897     47.3454     38.6966     39.6738  \n",
              "\n",
              "[898 rows x 26 columns]>"
            ]
          },
          "metadata": {},
          "execution_count": 40
        }
      ]
    },
    {
      "cell_type": "code",
      "source": [
        " # Checking if there is any NA value in dataset\n",
        "\n",
        " dataset.isna().sum().to_frame()"
      ],
      "metadata": {
        "colab": {
          "base_uri": "https://localhost:8080/",
          "height": 1000
        },
        "id": "iGEtSwyrzORO",
        "outputId": "454f174e-f966-4737-80ab-6038e121a843"
      },
      "execution_count": null,
      "outputs": [
        {
          "output_type": "execute_result",
          "data": {
            "text/plain": [
              "               0\n",
              "AREA           0\n",
              "PERIMETER      0\n",
              "MAJOR_AXIS     0\n",
              "MINOR_AXIS     0\n",
              "ECCENTRICITY   0\n",
              "EQDIASQ        0\n",
              "SOLIDITY       0\n",
              "CONVEX_AREA    0\n",
              "EXTENT         0\n",
              "ASPECT_RATIO   0\n",
              "ROUNDNESS      0\n",
              "COMPACTNESS    0\n",
              "SHAPEFACTOR_1  0\n",
              "SHAPEFACTOR_2  0\n",
              "SHAPEFACTOR_3  0\n",
              "SHAPEFACTOR_4  0\n",
              "MeanRR         0\n",
              "MeanRG         0\n",
              "MeanRB         0\n",
              "StdDevRR       0\n",
              "StdDevRG       0\n",
              "StdDevRB       0\n",
              "SkewRR         0\n",
              "SkewRG         0\n",
              "SkewRB         0\n",
              "KurtosisRR     0\n",
              "KurtosisRG     0\n",
              "KurtosisRB     0\n",
              "EntropyRR      0\n",
              "EntropyRG      0\n",
              "EntropyRB      0\n",
              "ALLdaub4RR     0\n",
              "ALLdaub4RG     0\n",
              "ALLdaub4RB     0\n",
              "Class          0"
            ],
            "text/html": [
              "\n",
              "  <div id=\"df-882f5c1e-0044-4205-8da3-f6e4b30ae378\">\n",
              "    <div class=\"colab-df-container\">\n",
              "      <div>\n",
              "<style scoped>\n",
              "    .dataframe tbody tr th:only-of-type {\n",
              "        vertical-align: middle;\n",
              "    }\n",
              "\n",
              "    .dataframe tbody tr th {\n",
              "        vertical-align: top;\n",
              "    }\n",
              "\n",
              "    .dataframe thead th {\n",
              "        text-align: right;\n",
              "    }\n",
              "</style>\n",
              "<table border=\"1\" class=\"dataframe\">\n",
              "  <thead>\n",
              "    <tr style=\"text-align: right;\">\n",
              "      <th></th>\n",
              "      <th>0</th>\n",
              "    </tr>\n",
              "  </thead>\n",
              "  <tbody>\n",
              "    <tr>\n",
              "      <th>AREA</th>\n",
              "      <td>0</td>\n",
              "    </tr>\n",
              "    <tr>\n",
              "      <th>PERIMETER</th>\n",
              "      <td>0</td>\n",
              "    </tr>\n",
              "    <tr>\n",
              "      <th>MAJOR_AXIS</th>\n",
              "      <td>0</td>\n",
              "    </tr>\n",
              "    <tr>\n",
              "      <th>MINOR_AXIS</th>\n",
              "      <td>0</td>\n",
              "    </tr>\n",
              "    <tr>\n",
              "      <th>ECCENTRICITY</th>\n",
              "      <td>0</td>\n",
              "    </tr>\n",
              "    <tr>\n",
              "      <th>EQDIASQ</th>\n",
              "      <td>0</td>\n",
              "    </tr>\n",
              "    <tr>\n",
              "      <th>SOLIDITY</th>\n",
              "      <td>0</td>\n",
              "    </tr>\n",
              "    <tr>\n",
              "      <th>CONVEX_AREA</th>\n",
              "      <td>0</td>\n",
              "    </tr>\n",
              "    <tr>\n",
              "      <th>EXTENT</th>\n",
              "      <td>0</td>\n",
              "    </tr>\n",
              "    <tr>\n",
              "      <th>ASPECT_RATIO</th>\n",
              "      <td>0</td>\n",
              "    </tr>\n",
              "    <tr>\n",
              "      <th>ROUNDNESS</th>\n",
              "      <td>0</td>\n",
              "    </tr>\n",
              "    <tr>\n",
              "      <th>COMPACTNESS</th>\n",
              "      <td>0</td>\n",
              "    </tr>\n",
              "    <tr>\n",
              "      <th>SHAPEFACTOR_1</th>\n",
              "      <td>0</td>\n",
              "    </tr>\n",
              "    <tr>\n",
              "      <th>SHAPEFACTOR_2</th>\n",
              "      <td>0</td>\n",
              "    </tr>\n",
              "    <tr>\n",
              "      <th>SHAPEFACTOR_3</th>\n",
              "      <td>0</td>\n",
              "    </tr>\n",
              "    <tr>\n",
              "      <th>SHAPEFACTOR_4</th>\n",
              "      <td>0</td>\n",
              "    </tr>\n",
              "    <tr>\n",
              "      <th>MeanRR</th>\n",
              "      <td>0</td>\n",
              "    </tr>\n",
              "    <tr>\n",
              "      <th>MeanRG</th>\n",
              "      <td>0</td>\n",
              "    </tr>\n",
              "    <tr>\n",
              "      <th>MeanRB</th>\n",
              "      <td>0</td>\n",
              "    </tr>\n",
              "    <tr>\n",
              "      <th>StdDevRR</th>\n",
              "      <td>0</td>\n",
              "    </tr>\n",
              "    <tr>\n",
              "      <th>StdDevRG</th>\n",
              "      <td>0</td>\n",
              "    </tr>\n",
              "    <tr>\n",
              "      <th>StdDevRB</th>\n",
              "      <td>0</td>\n",
              "    </tr>\n",
              "    <tr>\n",
              "      <th>SkewRR</th>\n",
              "      <td>0</td>\n",
              "    </tr>\n",
              "    <tr>\n",
              "      <th>SkewRG</th>\n",
              "      <td>0</td>\n",
              "    </tr>\n",
              "    <tr>\n",
              "      <th>SkewRB</th>\n",
              "      <td>0</td>\n",
              "    </tr>\n",
              "    <tr>\n",
              "      <th>KurtosisRR</th>\n",
              "      <td>0</td>\n",
              "    </tr>\n",
              "    <tr>\n",
              "      <th>KurtosisRG</th>\n",
              "      <td>0</td>\n",
              "    </tr>\n",
              "    <tr>\n",
              "      <th>KurtosisRB</th>\n",
              "      <td>0</td>\n",
              "    </tr>\n",
              "    <tr>\n",
              "      <th>EntropyRR</th>\n",
              "      <td>0</td>\n",
              "    </tr>\n",
              "    <tr>\n",
              "      <th>EntropyRG</th>\n",
              "      <td>0</td>\n",
              "    </tr>\n",
              "    <tr>\n",
              "      <th>EntropyRB</th>\n",
              "      <td>0</td>\n",
              "    </tr>\n",
              "    <tr>\n",
              "      <th>ALLdaub4RR</th>\n",
              "      <td>0</td>\n",
              "    </tr>\n",
              "    <tr>\n",
              "      <th>ALLdaub4RG</th>\n",
              "      <td>0</td>\n",
              "    </tr>\n",
              "    <tr>\n",
              "      <th>ALLdaub4RB</th>\n",
              "      <td>0</td>\n",
              "    </tr>\n",
              "    <tr>\n",
              "      <th>Class</th>\n",
              "      <td>0</td>\n",
              "    </tr>\n",
              "  </tbody>\n",
              "</table>\n",
              "</div>\n",
              "      <button class=\"colab-df-convert\" onclick=\"convertToInteractive('df-882f5c1e-0044-4205-8da3-f6e4b30ae378')\"\n",
              "              title=\"Convert this dataframe to an interactive table.\"\n",
              "              style=\"display:none;\">\n",
              "        \n",
              "  <svg xmlns=\"http://www.w3.org/2000/svg\" height=\"24px\"viewBox=\"0 0 24 24\"\n",
              "       width=\"24px\">\n",
              "    <path d=\"M0 0h24v24H0V0z\" fill=\"none\"/>\n",
              "    <path d=\"M18.56 5.44l.94 2.06.94-2.06 2.06-.94-2.06-.94-.94-2.06-.94 2.06-2.06.94zm-11 1L8.5 8.5l.94-2.06 2.06-.94-2.06-.94L8.5 2.5l-.94 2.06-2.06.94zm10 10l.94 2.06.94-2.06 2.06-.94-2.06-.94-.94-2.06-.94 2.06-2.06.94z\"/><path d=\"M17.41 7.96l-1.37-1.37c-.4-.4-.92-.59-1.43-.59-.52 0-1.04.2-1.43.59L10.3 9.45l-7.72 7.72c-.78.78-.78 2.05 0 2.83L4 21.41c.39.39.9.59 1.41.59.51 0 1.02-.2 1.41-.59l7.78-7.78 2.81-2.81c.8-.78.8-2.07 0-2.86zM5.41 20L4 18.59l7.72-7.72 1.47 1.35L5.41 20z\"/>\n",
              "  </svg>\n",
              "      </button>\n",
              "      \n",
              "  <style>\n",
              "    .colab-df-container {\n",
              "      display:flex;\n",
              "      flex-wrap:wrap;\n",
              "      gap: 12px;\n",
              "    }\n",
              "\n",
              "    .colab-df-convert {\n",
              "      background-color: #E8F0FE;\n",
              "      border: none;\n",
              "      border-radius: 50%;\n",
              "      cursor: pointer;\n",
              "      display: none;\n",
              "      fill: #1967D2;\n",
              "      height: 32px;\n",
              "      padding: 0 0 0 0;\n",
              "      width: 32px;\n",
              "    }\n",
              "\n",
              "    .colab-df-convert:hover {\n",
              "      background-color: #E2EBFA;\n",
              "      box-shadow: 0px 1px 2px rgba(60, 64, 67, 0.3), 0px 1px 3px 1px rgba(60, 64, 67, 0.15);\n",
              "      fill: #174EA6;\n",
              "    }\n",
              "\n",
              "    [theme=dark] .colab-df-convert {\n",
              "      background-color: #3B4455;\n",
              "      fill: #D2E3FC;\n",
              "    }\n",
              "\n",
              "    [theme=dark] .colab-df-convert:hover {\n",
              "      background-color: #434B5C;\n",
              "      box-shadow: 0px 1px 3px 1px rgba(0, 0, 0, 0.15);\n",
              "      filter: drop-shadow(0px 1px 2px rgba(0, 0, 0, 0.3));\n",
              "      fill: #FFFFFF;\n",
              "    }\n",
              "  </style>\n",
              "\n",
              "      <script>\n",
              "        const buttonEl =\n",
              "          document.querySelector('#df-882f5c1e-0044-4205-8da3-f6e4b30ae378 button.colab-df-convert');\n",
              "        buttonEl.style.display =\n",
              "          google.colab.kernel.accessAllowed ? 'block' : 'none';\n",
              "\n",
              "        async function convertToInteractive(key) {\n",
              "          const element = document.querySelector('#df-882f5c1e-0044-4205-8da3-f6e4b30ae378');\n",
              "          const dataTable =\n",
              "            await google.colab.kernel.invokeFunction('convertToInteractive',\n",
              "                                                     [key], {});\n",
              "          if (!dataTable) return;\n",
              "\n",
              "          const docLinkHtml = 'Like what you see? Visit the ' +\n",
              "            '<a target=\"_blank\" href=https://colab.research.google.com/notebooks/data_table.ipynb>data table notebook</a>'\n",
              "            + ' to learn more about interactive tables.';\n",
              "          element.innerHTML = '';\n",
              "          dataTable['output_type'] = 'display_data';\n",
              "          await google.colab.output.renderOutput(dataTable, element);\n",
              "          const docLink = document.createElement('div');\n",
              "          docLink.innerHTML = docLinkHtml;\n",
              "          element.appendChild(docLink);\n",
              "        }\n",
              "      </script>\n",
              "    </div>\n",
              "  </div>\n",
              "  "
            ]
          },
          "metadata": {},
          "execution_count": 41
        }
      ]
    },
    {
      "cell_type": "code",
      "source": [
        " # Counting the number of instances of each class\n",
        "\n",
        " dataset['Class'].value_counts()\n"
      ],
      "metadata": {
        "colab": {
          "base_uri": "https://localhost:8080/"
        },
        "id": "BqagA__i22l-",
        "outputId": "56b3b92e-85ba-49b0-9785-d4007a4e2a0d"
      },
      "execution_count": null,
      "outputs": [
        {
          "output_type": "execute_result",
          "data": {
            "text/plain": [
              "DOKOL     204\n",
              "SAFAVI    199\n",
              "ROTANA    166\n",
              "DEGLET     98\n",
              "SOGAY      94\n",
              "IRAQI      72\n",
              "BERHI      65\n",
              "Name: Class, dtype: int64"
            ]
          },
          "metadata": {},
          "execution_count": 42
        }
      ]
    },
    {
      "cell_type": "code",
      "source": [
        "plt.bar(dataset['Class'].value_counts().index.to_list(), dataset['Class'].value_counts().values)"
      ],
      "metadata": {
        "colab": {
          "base_uri": "https://localhost:8080/",
          "height": 282
        },
        "id": "SX4fpGtY3Ie8",
        "outputId": "ae6c9acc-add1-4455-b8cf-45917b00323b"
      },
      "execution_count": null,
      "outputs": [
        {
          "output_type": "execute_result",
          "data": {
            "text/plain": [
              "<BarContainer object of 7 artists>"
            ]
          },
          "metadata": {},
          "execution_count": 43
        },
        {
          "output_type": "display_data",
          "data": {
            "text/plain": [
              "<Figure size 432x288 with 1 Axes>"
            ],
            "image/png": "[encoded data removed]"
          },
          "metadata": {
            "needs_background": "light"
          }
        }
      ]
    },
    {
      "cell_type": "markdown",
      "source": [
        "# **Preparing Dataset for Train**"
      ],
      "metadata": {
        "id": "dhjrr03C3fh4"
      }
    },
    {
      "cell_type": "code",
      "source": [
        "X = dataset.drop('Class', axis = 1)\n",
        "y = dataset['Class']"
      ],
      "metadata": {
        "id": "9lG5HOVO3h-S"
      },
      "execution_count": null,
      "outputs": []
    },
    {
      "cell_type": "code",
      "source": [
        "X.shape, y.shape"
      ],
      "metadata": {
        "colab": {
          "base_uri": "https://localhost:8080/"
        },
        "id": "ZJPjOV2E3vDt",
        "outputId": "d7fb8cee-f55d-4136-eba3-dc254a097c40"
      },
      "execution_count": null,
      "outputs": [
        {
          "output_type": "execute_result",
          "data": {
            "text/plain": [
              "((898, 34), (898,))"
            ]
          },
          "metadata": {},
          "execution_count": 45
        }
      ]
    },
    {
      "cell_type": "markdown",
      "source": [
        "# **Encoding Target Variables**"
      ],
      "metadata": {
        "id": "DkeXZ94k37fx"
      }
    },
    {
      "cell_type": "code",
      "source": [],
      "metadata": {
        "id": "DM9valHV393Y"
      },
      "execution_count": null,
      "outputs": []
    },
    {
      "cell_type": "code",
      "source": [
        "# We can use One Hot Encoding or Label Encoding.\n",
        "from sklearn.preprocessing import LabelEncoder\n",
        "# converting the labels into a numeric form so as to convert them into the machine-readable form.\n",
        "le = LabelEncoder() \n",
        "y = le.fit_transform(y)"
      ],
      "metadata": {
        "id": "yYyuIham2D2T"
      },
      "execution_count": null,
      "outputs": []
    },
    {
      "cell_type": "code",
      "source": [
        "y"
      ],
      "metadata": {
        "colab": {
          "base_uri": "https://localhost:8080/"
        },
        "id": "vwiduQGd4hQw",
        "outputId": "6ff1921a-bf17-49b4-93df-b1efdf13fcf0"
      },
      "execution_count": null,
      "outputs": [
        {
          "output_type": "execute_result",
          "data": {
            "text/plain": [
              "array([0, 0, 0, 0, 0, 0, 0, 0, 0, 0, 0, 0, 0, 0, 0, 0, 0, 0, 0, 0, 0, 0,\n",
              "       0, 0, 0, 0, 0, 0, 0, 0, 0, 0, 0, 0, 0, 0, 0, 0, 0, 0, 0, 0, 0, 0,\n",
              "       0, 0, 0, 0, 0, 0, 0, 0, 0, 0, 0, 0, 0, 0, 0, 0, 0, 0, 0, 0, 0, 1,\n",
              "       1, 1, 1, 1, 1, 1, 1, 1, 1, 1, 1, 1, 1, 1, 1, 1, 1, 1, 1, 1, 1, 1,\n",
              "       1, 1, 1, 1, 1, 1, 1, 1, 1, 1, 1, 1, 1, 1, 1, 1, 1, 1, 1, 1, 1, 1,\n",
              "       1, 1, 1, 1, 1, 1, 1, 1, 1, 1, 1, 1, 1, 1, 1, 1, 1, 1, 1, 1, 1, 1,\n",
              "       1, 1, 1, 1, 1, 1, 1, 1, 1, 1, 1, 1, 1, 1, 1, 1, 1, 1, 1, 1, 1, 1,\n",
              "       1, 1, 1, 1, 1, 1, 1, 1, 1, 2, 2, 2, 2, 2, 2, 2, 2, 2, 2, 2, 2, 2,\n",
              "       2, 2, 2, 2, 2, 2, 2, 2, 2, 2, 2, 2, 2, 2, 2, 2, 2, 2, 2, 2, 2, 2,\n",
              "       2, 2, 2, 2, 2, 2, 2, 2, 2, 2, 2, 2, 2, 2, 2, 2, 2, 2, 2, 2, 2, 2,\n",
              "       2, 2, 2, 2, 2, 2, 2, 2, 2, 2, 2, 2, 2, 2, 2, 2, 2, 2, 2, 2, 2, 2,\n",
              "       2, 2, 2, 2, 2, 2, 2, 2, 2, 2, 2, 2, 2, 2, 2, 2, 2, 2, 2, 2, 2, 2,\n",
              "       2, 2, 2, 2, 2, 2, 2, 2, 2, 2, 2, 2, 2, 2, 2, 2, 2, 2, 2, 2, 2, 2,\n",
              "       2, 2, 2, 2, 2, 2, 2, 2, 2, 2, 2, 2, 2, 2, 2, 2, 2, 2, 2, 2, 2, 2,\n",
              "       2, 2, 2, 2, 2, 2, 2, 2, 2, 2, 2, 2, 2, 2, 2, 2, 2, 2, 2, 2, 2, 2,\n",
              "       2, 2, 2, 2, 2, 2, 2, 2, 2, 2, 2, 2, 2, 2, 2, 2, 2, 2, 2, 2, 2, 2,\n",
              "       2, 2, 2, 2, 2, 2, 2, 2, 2, 2, 2, 2, 2, 2, 2, 3, 3, 3, 3, 3, 3, 3,\n",
              "       3, 3, 3, 3, 3, 3, 3, 3, 3, 3, 3, 3, 3, 3, 3, 3, 3, 3, 3, 3, 3, 3,\n",
              "       3, 3, 3, 3, 3, 3, 3, 3, 3, 3, 3, 3, 3, 3, 3, 3, 3, 3, 3, 3, 3, 3,\n",
              "       3, 3, 3, 3, 3, 3, 3, 3, 3, 3, 3, 3, 3, 3, 3, 3, 3, 3, 3, 3, 3, 4,\n",
              "       4, 4, 4, 4, 4, 4, 4, 4, 4, 4, 4, 4, 4, 4, 4, 4, 4, 4, 4, 4, 4, 4,\n",
              "       4, 4, 4, 4, 4, 4, 4, 4, 4, 4, 4, 4, 4, 4, 4, 4, 4, 4, 4, 4, 4, 4,\n",
              "       4, 4, 4, 4, 4, 4, 4, 4, 4, 4, 4, 4, 4, 4, 4, 4, 4, 4, 4, 4, 4, 4,\n",
              "       4, 4, 4, 4, 4, 4, 4, 4, 4, 4, 4, 4, 4, 4, 4, 4, 4, 4, 4, 4, 4, 4,\n",
              "       4, 4, 4, 4, 4, 4, 4, 4, 4, 4, 4, 4, 4, 4, 4, 4, 4, 4, 4, 4, 4, 4,\n",
              "       4, 4, 4, 4, 4, 4, 4, 4, 4, 4, 4, 4, 4, 4, 4, 4, 4, 4, 4, 4, 4, 4,\n",
              "       4, 4, 4, 4, 4, 4, 4, 4, 4, 4, 4, 4, 4, 4, 4, 4, 4, 4, 4, 4, 4, 4,\n",
              "       4, 4, 4, 4, 4, 4, 4, 4, 4, 4, 4, 5, 5, 5, 5, 5, 5, 5, 5, 5, 5, 5,\n",
              "       5, 5, 5, 5, 5, 5, 5, 5, 5, 5, 5, 5, 5, 5, 5, 5, 5, 5, 5, 5, 5, 5,\n",
              "       5, 5, 5, 5, 5, 5, 5, 5, 5, 5, 5, 5, 5, 5, 5, 5, 5, 5, 5, 5, 5, 5,\n",
              "       5, 5, 5, 5, 5, 5, 5, 5, 5, 5, 5, 5, 5, 5, 5, 5, 5, 5, 5, 5, 5, 5,\n",
              "       5, 5, 5, 5, 5, 5, 5, 5, 5, 5, 5, 5, 5, 5, 5, 5, 5, 5, 5, 5, 5, 5,\n",
              "       5, 5, 5, 5, 5, 5, 5, 5, 5, 5, 5, 5, 5, 5, 5, 5, 5, 5, 5, 5, 5, 5,\n",
              "       5, 5, 5, 5, 5, 5, 5, 5, 5, 5, 5, 5, 5, 5, 5, 5, 5, 5, 5, 5, 5, 5,\n",
              "       5, 5, 5, 5, 5, 5, 5, 5, 5, 5, 5, 5, 5, 5, 5, 5, 5, 5, 5, 5, 5, 5,\n",
              "       5, 5, 5, 5, 5, 5, 5, 5, 5, 5, 5, 5, 5, 5, 5, 5, 5, 5, 5, 5, 5, 5,\n",
              "       5, 5, 5, 5, 5, 5, 5, 5, 5, 5, 5, 5, 6, 6, 6, 6, 6, 6, 6, 6, 6, 6,\n",
              "       6, 6, 6, 6, 6, 6, 6, 6, 6, 6, 6, 6, 6, 6, 6, 6, 6, 6, 6, 6, 6, 6,\n",
              "       6, 6, 6, 6, 6, 6, 6, 6, 6, 6, 6, 6, 6, 6, 6, 6, 6, 6, 6, 6, 6, 6,\n",
              "       6, 6, 6, 6, 6, 6, 6, 6, 6, 6, 6, 6, 6, 6, 6, 6, 6, 6, 6, 6, 6, 6,\n",
              "       6, 6, 6, 6, 6, 6, 6, 6, 6, 6, 6, 6, 6, 6, 6, 6, 6, 6])"
            ]
          },
          "metadata": {},
          "execution_count": 47
        }
      ]
    },
    {
      "cell_type": "markdown",
      "source": [
        "# Scaling Target Variables"
      ],
      "metadata": {
        "id": "H-6YAFdA5iop"
      }
    },
    {
      "cell_type": "code",
      "source": [
        "from sklearn.preprocessing import StandardScaler\n",
        "\n",
        "sc = StandardScaler()\n",
        "\n",
        "X_scaled = sc.fit_transform(X)\n",
        "X_scaled"
      ],
      "metadata": {
        "colab": {
          "base_uri": "https://localhost:8080/"
        },
        "id": "bB0w9hZH5iDf",
        "outputId": "28d8cc75-0229-4006-e263-39eb1444d23d"
      },
      "execution_count": null,
      "outputs": [
        {
          "output_type": "execute_result",
          "data": {
            "text/plain": [
              "array([[ 1.15563972,  0.78394219,  0.60450726, ...,  0.53834033,\n",
              "         0.43559289, -0.02390791],\n",
              "       [ 0.37169955,  0.06706714, -0.18747301, ..., -0.00354973,\n",
              "         0.28411298, -0.02469438],\n",
              "       [ 2.13226458,  1.4391311 ,  1.31912143, ...,  0.95889749,\n",
              "         0.74233511,  0.3552428 ],\n",
              "       ...,\n",
              "       [-0.41017878, -0.31949739, -0.02304289, ..., -0.37064418,\n",
              "        -0.56715228, -0.6589192 ],\n",
              "       [-0.55362172, -0.36944589, -0.23728094, ...,  0.071247  ,\n",
              "        -0.21883206, -0.22875922],\n",
              "       [ 0.42446789,  0.56520261,  0.50723897, ..., -0.1705156 ,\n",
              "        -0.71603977, -0.77948909]])"
            ]
          },
          "metadata": {},
          "execution_count": 48
        }
      ]
    },
    {
      "cell_type": "markdown",
      "source": [
        "# Creating Models"
      ],
      "metadata": {
        "id": "4jFMN_9e57OA"
      }
    },
    {
      "cell_type": "code",
      "source": [
        "#from sklearn.metrics import classification_report, accuracy_score"
      ],
      "metadata": {
        "id": "P5WIuPxe6IXq"
      },
      "execution_count": null,
      "outputs": []
    },
    {
      "cell_type": "code",
      "source": [
        "# Splitting dataset-----\n",
        "from sklearn.model_selection import train_test_split\n",
        "X_train, X_test, y_train, y_test = train_test_split(X_scaled, y, test_size = 0.2, random_state = 42)"
      ],
      "metadata": {
        "id": "yxxQytsx25G-"
      },
      "execution_count": null,
      "outputs": []
    },
    {
      "cell_type": "code",
      "source": [
        "\n",
        "# M1) Logistic Regression-----\n",
        "from sklearn.linear_model import LogisticRegression\n",
        "lclassifier = LogisticRegression(max_iter=1000)\n",
        "lclassifier.fit(X_train, y_train)\n",
        "y_lpred = lclassifier.predict(X_test)\n",
        "accuracy_score(y_test, y_lpred)"
      ],
      "metadata": {
        "colab": {
          "base_uri": "https://localhost:8080/"
        },
        "id": "sy18wyZX3Uy7",
        "outputId": "f9e1a6ce-c9b9-4904-a64a-e8c1a321ead7"
      },
      "execution_count": null,
      "outputs": [
        {
          "output_type": "execute_result",
          "data": {
            "text/plain": [
              "0.9611111111111111"
            ]
          },
          "metadata": {},
          "execution_count": 52
        }
      ]
    },
    {
      "cell_type": "code",
      "source": [
        "# M2) Using KNN----\n",
        "from sklearn.neighbors import KNeighborsClassifier\n",
        "kclassifier = KNeighborsClassifier(n_neighbors = 5, metric='minkowski', p=2)\n",
        "kclassifier.fit(X_train, y_train)\n",
        "y_kpred = kclassifier.predict(X_test)\n",
        "accuracy_score(y_test, y_kpred)"
      ],
      "metadata": {
        "colab": {
          "base_uri": "https://localhost:8080/"
        },
        "id": "odGc3PyJ3tS3",
        "outputId": "f76fbf5d-688e-4184-a444-cf7f53c5316e"
      },
      "execution_count": null,
      "outputs": [
        {
          "output_type": "execute_result",
          "data": {
            "text/plain": [
              "0.9388888888888889"
            ]
          },
          "metadata": {},
          "execution_count": 53
        }
      ]
    },
    {
      "cell_type": "code",
      "source": [
        "# M3) Using Linear SVC.\n",
        "from sklearn.svm import SVC\n",
        "sclassifier = SVC(kernel='rbf')\n",
        "sclassifier.fit(X_train, y_train)\n",
        "y_spred = sclassifier.predict(X_test)\n",
        "accuracy_score(y_test, y_spred)"
      ],
      "metadata": {
        "colab": {
          "base_uri": "https://localhost:8080/"
        },
        "id": "qf-FpDyT4Fnh",
        "outputId": "1978edf8-4a29-408c-87c2-5afe845b1830"
      },
      "execution_count": null,
      "outputs": [
        {
          "output_type": "execute_result",
          "data": {
            "text/plain": [
              "0.9444444444444444"
            ]
          },
          "metadata": {},
          "execution_count": 54
        }
      ]
    }
  ]
}